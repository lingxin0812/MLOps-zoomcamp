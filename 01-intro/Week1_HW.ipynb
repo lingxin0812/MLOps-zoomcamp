{
 "cells": [
  {
   "cell_type": "code",
   "execution_count": 1,
   "id": "10e69ff9-5833-453d-a95a-3ed94b02f368",
   "metadata": {},
   "outputs": [],
   "source": [
    "import pandas as pd\n",
    "import pickle\n",
    "import seaborn as sns\n",
    "import matplotlib.pyplot as plt\n",
    "import sklearn\n",
    "from sklearn.feature_extraction import DictVectorizer\n",
    "from sklearn.linear_model import LinearRegression\n",
    "from sklearn.linear_model import Lasso\n",
    "from sklearn.linear_model import Ridge\n",
    "\n",
    "from sklearn.metrics import root_mean_squared_error"
   ]
  },
  {
   "cell_type": "code",
   "execution_count": 2,
   "id": "8f441162-6628-4b66-ae6e-0e774bc1a2b1",
   "metadata": {},
   "outputs": [],
   "source": [
    "df_train = pd.read_parquet('https://d37ci6vzurychx.cloudfront.net/trip-data/yellow_tripdata_2023-01.parquet')\n",
    "df_val = pd.read_parquet('https://d37ci6vzurychx.cloudfront.net/trip-data/yellow_tripdata_2023-02.parquet')"
   ]
  },
  {
   "cell_type": "code",
   "execution_count": 3,
   "id": "2c66645f-7d89-4b14-a095-61bed7b10929",
   "metadata": {},
   "outputs": [
    {
     "name": "stdout",
     "output_type": "stream",
     "text": [
      "number of columns:19\n"
     ]
    }
   ],
   "source": [
    "num_columns = df_train.shape[1]\n",
    "print(f\"number of columns:{num_columns}\")"
   ]
  },
  {
   "cell_type": "code",
   "execution_count": 4,
   "id": "3f4064fc-8292-4677-b33f-b795f5cff4a3",
   "metadata": {},
   "outputs": [
    {
     "name": "stdout",
     "output_type": "stream",
     "text": [
      "Standard deviation of trip duration train: 42.59 minutes\n"
     ]
    }
   ],
   "source": [
    "df_train['duration'] =( df_train.tpep_dropoff_datetime - df_train.tpep_pickup_datetime).dt.total_seconds()/60\n",
    "df_val['duration'] =( df_train.tpep_dropoff_datetime - df_train.tpep_pickup_datetime).dt.total_seconds()/60\n",
    "std_dev_minutes_train = df_train['duration'].std()\n",
    "print(f\"Standard deviation of trip duration train: {std_dev_minutes_train:.2f} minutes\")"
   ]
  },
  {
   "cell_type": "code",
   "execution_count": 5,
   "id": "b2e4f06f-7438-4dee-9174-0146cbbd531a",
   "metadata": {},
   "outputs": [
    {
     "name": "stdout",
     "output_type": "stream",
     "text": [
      "Fraction of records remaining train data: 0.9812\n"
     ]
    }
   ],
   "source": [
    "original_count = len(df_train)\n",
    "filtered_df = df_train[(df_train['duration'] >= 1) & (df_train['duration'] <= 60)]\n",
    "filtered_count = len(filtered_df)\n",
    "fraction_remaining = filtered_count / original_count\n",
    "\n",
    "print(f\"Fraction of records remaining train data: {fraction_remaining:.4f}\")"
   ]
  },
  {
   "cell_type": "code",
   "execution_count": 6,
   "id": "56c211dd-fec6-4e76-bc02-b2a953b11b93",
   "metadata": {},
   "outputs": [
    {
     "name": "stdout",
     "output_type": "stream",
     "text": [
      "Shape of feature matrix train: (3009173, 516)\n",
      "Number of columns train: 516\n",
      "Shape of feature matrix val: (2858634, 516)\n",
      "Number of columns val: 516\n"
     ]
    }
   ],
   "source": [
    "df_train = df_train[(df_train.duration >= 1) & (df_train.duration <= 60)]\n",
    "df_val = df_val[(df_val.duration >= 1) & (df_val.duration <= 60)]\n",
    "categorical = ['PULocationID', 'DOLocationID']\n",
    "numerical = ['trip_distance']\n",
    "df_train[categorical] = df_train[categorical].astype(str)\n",
    "df_val[categorical] = df_val[categorical].astype(str)\n",
    "\n",
    "dv = DictVectorizer()\n",
    "\n",
    "train_dicts = df_train[categorical + numerical].to_dict(orient='records')\n",
    "X_train = dv.fit_transform(train_dicts)\n",
    "\n",
    "val_dicts = df_val[categorical + numerical].to_dict(orient='records')\n",
    "X_val = dv.transform(val_dicts)\n",
    "\n",
    "print(f\"Shape of feature matrix train: {X_train.shape}\")\n",
    "print(f\"Number of columns train: {X_train.shape[1]}\")\n",
    "\n",
    "print(f\"Shape of feature matrix val: {X_val.shape}\")\n",
    "print(f\"Number of columns val: {X_val.shape[1]}\")"
   ]
  },
  {
   "cell_type": "code",
   "execution_count": 7,
   "id": "d706dfe0-c2b7-4aa6-b777-ab2d2fed583a",
   "metadata": {},
   "outputs": [],
   "source": [
    "df_train = df_train[(df_train['duration'] >= 1) & (df_train['duration'] <= 60)]\n",
    "df_val = df_val[(df_val['duration'] >= 1) & (df_val['duration'] <= 60)]\n",
    "target = 'duration'\n",
    "y_train = df_train[target].values\n",
    "y_val = df_val[target].values"
   ]
  },
  {
   "cell_type": "code",
   "execution_count": 8,
   "id": "3a6ae61e-833f-4894-a756-07f37e3a834f",
   "metadata": {},
   "outputs": [
    {
     "data": {
      "text/plain": [
       "7.658405791284101"
      ]
     },
     "execution_count": 8,
     "metadata": {},
     "output_type": "execute_result"
    }
   ],
   "source": [
    "lr = LinearRegression()\n",
    "lr.fit(X_train, y_train)\n",
    "\n",
    "y_pred = lr.predict(X_train)\n",
    "\n",
    "root_mean_squared_error(y_train, y_pred)"
   ]
  },
  {
   "cell_type": "code",
   "execution_count": 9,
   "id": "7a816f41-0eaf-4f7b-b4f0-c4f6d853d4c6",
   "metadata": {},
   "outputs": [
    {
     "data": {
      "text/plain": [
       "11.863146558759315"
      ]
     },
     "execution_count": 9,
     "metadata": {},
     "output_type": "execute_result"
    }
   ],
   "source": [
    "y_pred = lr.predict(X_val)\n",
    "root_mean_squared_error(y_val, y_pred)"
   ]
  },
  {
   "cell_type": "code",
   "execution_count": 11,
   "id": "9261d203-7779-4e66-b5fc-62d4cb836ad2",
   "metadata": {},
   "outputs": [
    {
     "data": {
      "text/plain": [
       "11.40188381665915"
      ]
     },
     "execution_count": 11,
     "metadata": {},
     "output_type": "execute_result"
    }
   ],
   "source": [
    "lr = Lasso(0.01)\n",
    "lr.fit(X_train, y_train)\n",
    "\n",
    "y_pred = lr.predict(X_val)\n",
    "\n",
    "root_mean_squared_error(y_val, y_pred)"
   ]
  },
  {
   "cell_type": "code",
   "execution_count": null,
   "id": "c30ef947-4035-4bf2-b305-518a6bdf50d4",
   "metadata": {},
   "outputs": [],
   "source": []
  }
 ],
 "metadata": {
  "kernelspec": {
   "display_name": "Python 3 (ipykernel)",
   "language": "python",
   "name": "python3"
  },
  "language_info": {
   "codemirror_mode": {
    "name": "ipython",
    "version": 3
   },
   "file_extension": ".py",
   "mimetype": "text/x-python",
   "name": "python",
   "nbconvert_exporter": "python",
   "pygments_lexer": "ipython3",
   "version": "3.11.7"
  }
 },
 "nbformat": 4,
 "nbformat_minor": 5
}
